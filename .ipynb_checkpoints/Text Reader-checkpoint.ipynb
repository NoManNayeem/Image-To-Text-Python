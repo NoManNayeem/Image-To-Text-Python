{
 "cells": [
  {
   "cell_type": "code",
   "execution_count": 1,
   "id": "f95ea6be",
   "metadata": {},
   "outputs": [],
   "source": [
    "# pip install pytesseract Pillow"
   ]
  },
  {
   "cell_type": "code",
   "execution_count": 2,
   "id": "a811bfb4",
   "metadata": {},
   "outputs": [
    {
     "name": "stdout",
     "output_type": "stream",
     "text": [
      "Extracted Text:\n",
      "It was the best of\n",
      "times, it was the worst\n",
      "of times, it was the age\n",
      "of wisdom, it was the\n",
      "age of foolishness...\n",
      "\f",
      "\n"
     ]
    }
   ],
   "source": [
    "from PIL import Image\n",
    "import pytesseract\n",
    "\n",
    "# Path to the Tesseract executable (update this path based on your installation)\n",
    "pytesseract.pytesseract.tesseract_cmd = '/usr/bin/tesseract'\n",
    "\n",
    "def image_to_text(image_path):\n",
    "    try:\n",
    "        # Open the image using Pillow (PIL)\n",
    "        img = Image.open(image_path)\n",
    "\n",
    "        # Perform OCR on the image\n",
    "        text = pytesseract.image_to_string(img)\n",
    "\n",
    "        return text\n",
    "    except Exception as e:\n",
    "        print(\"An error occurred:\", str(e))\n",
    "        return None\n",
    "\n",
    "if __name__ == \"__main__\":\n",
    "    image_path = \"./assets/IvV2y.png\"  # Replace with the path to your image file\n",
    "#     image_path = \"./assets/add-text-to-photo-4.webp\"  # Replace with the path to your image file\n",
    "    extracted_text = image_to_text(image_path)\n",
    "\n",
    "    if extracted_text:\n",
    "        print(\"Extracted Text:\")\n",
    "        print(extracted_text)\n",
    "    else:\n",
    "        print(\"Text extraction failed.\")\n",
    "\n"
   ]
  },
  {
   "cell_type": "code",
   "execution_count": 3,
   "id": "a1a92683",
   "metadata": {},
   "outputs": [],
   "source": [
    "## Unicode\n"
   ]
  },
  {
   "cell_type": "code",
   "execution_count": 4,
   "id": "f34e66ab",
   "metadata": {},
   "outputs": [],
   "source": [
    "import os\n",
    "\n",
    "# Set the TESSDATA_PREFIX environment variable to the tessdata directory path\n",
    "tessdata_prefix = '/usr/share/tesseract-ocr/4.00/tessdata'\n",
    "os.environ['TESSDATA_PREFIX'] = tessdata_prefix\n"
   ]
  },
  {
   "cell_type": "code",
   "execution_count": 7,
   "id": "edc67bf4",
   "metadata": {},
   "outputs": [
    {
     "name": "stdout",
     "output_type": "stream",
     "text": [
      "An error occurred: name 'image' is not defined\n",
      "Text extraction failed.\n"
     ]
    }
   ],
   "source": [
    "import pytesseract\n",
    "from PIL import Image\n",
    "\n",
    "# Path to the Tesseract executable (update this path based on your installation)\n",
    "pytesseract.pytesseract.tesseract_cmd = '/usr/bin/tesseract'\n",
    "\n",
    "def image_to_text(image_path, language='ben'):\n",
    "    try:\n",
    "        # Open the image using Pillow (PIL)\n",
    "        img = Image.open(image_path)\n",
    "\n",
    "        # Perform OCR on the image with the Bengali language and configure for Unicode output\n",
    "#         text = pytesseract.image_to_string(img, lang=language, config='--psm 6')\n",
    "        text = pytesseract.image_to_string(image, lang='ben', config='bengali_config.txt')\n",
    "\n",
    "\n",
    "        return text\n",
    "    except Exception as e:\n",
    "        print(\"An error occurred:\", str(e))\n",
    "        return None\n",
    "\n",
    "if __name__ == \"__main__\":\n",
    "    image_path = \"./assets/images.png\"  # Replace with the path to your image file\n",
    "    extracted_text = image_to_text(image_path, language='ben')\n",
    "\n",
    "    if extracted_text:\n",
    "        print(\"Extracted Text:\")\n",
    "        print(extracted_text)\n",
    "    else:\n",
    "        print(\"Text extraction failed.\")\n"
   ]
  },
  {
   "cell_type": "code",
   "execution_count": null,
   "id": "5fa40d38",
   "metadata": {},
   "outputs": [],
   "source": []
  },
  {
   "cell_type": "code",
   "execution_count": null,
   "id": "4ecf5421",
   "metadata": {},
   "outputs": [],
   "source": []
  }
 ],
 "metadata": {
  "kernelspec": {
   "display_name": "Python 3 (ipykernel)",
   "language": "python",
   "name": "python3"
  },
  "language_info": {
   "codemirror_mode": {
    "name": "ipython",
    "version": 3
   },
   "file_extension": ".py",
   "mimetype": "text/x-python",
   "name": "python",
   "nbconvert_exporter": "python",
   "pygments_lexer": "ipython3",
   "version": "3.11.4"
  }
 },
 "nbformat": 4,
 "nbformat_minor": 5
}
